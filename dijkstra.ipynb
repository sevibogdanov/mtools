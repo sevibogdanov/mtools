{
 "cells": [
  {
   "cell_type": "markdown",
   "id": "c0c73e8b",
   "metadata": {},
   "source": [
    "# Дейкстра"
   ]
  },
  {
   "cell_type": "markdown",
   "id": "2a9f1de5",
   "metadata": {},
   "source": [
    "### Формуирем поле (таблицу) со случайными значениями"
   ]
  },
  {
   "cell_type": "code",
   "execution_count": 62,
   "id": "fd273a33",
   "metadata": {},
   "outputs": [],
   "source": [
    "import random\n",
    "\n",
    "rows = 30 # кол-во строк поля\n",
    "cols = 30 # кол-во столбцов поля\n",
    "\n",
    "# создается поле размером rows X cols\n",
    "field = [[random.randint(1,9) for i in range(0,cols)] for x in range(0,rows)]\n"
   ]
  },
  {
   "cell_type": "markdown",
   "id": "141e3f63",
   "metadata": {},
   "source": [
    "### Преобразуем поле (таблицу в словарь)"
   ]
  },
  {
   "cell_type": "code",
   "execution_count": 63,
   "id": "27f2e18b",
   "metadata": {},
   "outputs": [],
   "source": [
    "def make_graph_dict(lst):\n",
    "    '''формируем граф из таблицы со связями в 4 направлениях\n",
    "    Граф - словарь, где ключами являются наименования узлов, \n",
    "    а значения - тоже словари из узлов-последователей и веса ребра до каждого из них\n",
    "    '''\n",
    "    graph = {}\n",
    "\n",
    "    for row in range(len(lst)): # формируем узлы\n",
    "        for col in range(len(lst[0])):\n",
    "            graph[f'{row},{col}'] = {}\n",
    "\n",
    "    for each in graph: \n",
    "        r,c = map(int,each.split(','))\n",
    "        if r+1 <= rows-1: #ячейка снизу\n",
    "            graph[each][f'{r+1},{c}']= lst[r+1][c]\n",
    "        if c+1 <= cols-1: #ячейка справа\n",
    "            graph[each][f'{r},{c+1}']= lst[r][c+1]\n",
    "        if r-1 >= 0:      #ячейка сверху\n",
    "            graph[each][f'{r-1},{c}']= lst[r-1][c]\n",
    "        if c-1 >= 0:      #ячейка слева\n",
    "            graph[each][f'{r},{c-1}']= lst[r][c-1]\n",
    "    return graph\n",
    "    \n",
    "graph = make_graph_dict(field) #получили граф из таблицы\n"
   ]
  },
  {
   "cell_type": "markdown",
   "id": "4694fdf0",
   "metadata": {},
   "source": [
    "### Определяем класс"
   ]
  },
  {
   "cell_type": "code",
   "execution_count": 64,
   "id": "a7aa75a9",
   "metadata": {},
   "outputs": [],
   "source": [
    "class Graph:\n",
    "    '''\n",
    "    costs - словарь стоимостей для каждого узла\n",
    "    end - наименование узла-цели\n",
    "    start - наименование узла-начала\n",
    "    parents - словарь родителей для узла (по нему восстанавливается путь)\n",
    "    node_amt - кол-во узлов графа\n",
    "\n",
    "    dijkstra - (self,start,end,start_val=0) определения кратчайего пути от start до end\n",
    "    '''\n",
    "\n",
    "    def __init__(self,graph):\n",
    "        self.graph = graph\n",
    "        self.node_amt = len(graph)\n",
    "        self.start = 'ND'\n",
    "        self.end = 'ND'\n",
    "        self.parents = 'ND'\n",
    "        self.costs = 'ND'\n",
    "        self.processed = 'ND'\n",
    "\n",
    "    def _find_lowest_cost_node(self):\n",
    "        '''выбираем непосещенный узел с минимальной стоимостью, от него будем пересчитывать стоимости последователей '''\n",
    "        lcn_val = float('inf')\n",
    "        lcn = None\n",
    "        for node in self.costs:\n",
    "            if self.costs[node] < lcn_val and node not in self.processed:\n",
    "                lcn_val = self.costs[node]\n",
    "                lcn = node\n",
    "        return lcn\n",
    "    \n",
    "    \n",
    "    def dijkstra(self,start,end,start_val=0):\n",
    "        '''Необходимо передать граф (в формате узел - его последователи с ребрами), стартовая стоимость, стартовый и конечные узлы\n",
    "        1 - costs создаем стоимости для всех узлов (равны бесконечности)\n",
    "        2 - создаем processed - обработанные узлы, чтобы они не попадались при выборе lowest_cost_node\n",
    "        3 - parents - словарь для записи пути'''\n",
    "        self.start = start\n",
    "        self.end = end\n",
    "\n",
    "        self.costs = {vertex: float('inf') for vertex in self.graph} # создаем словарь со стоимостями (бесконечность для всех)\n",
    "        self.costs[start] = start_val # для начальной точки стоимость\n",
    "        \n",
    "        self.processed = [] # список обработанных узлов (старт уже включен)\n",
    "        self.parents = dict()\n",
    "        \n",
    "        lowest_cost_node = self._find_lowest_cost_node() #определяем самый дешевый узел из доступных непосещенных\n",
    "        while lowest_cost_node != end: \n",
    "            for node in self.graph[lowest_cost_node]: #для каждого последователя самого дешевого узла\n",
    "                if self.costs[node] > self.graph[lowest_cost_node][node] + self.costs[lowest_cost_node]: #если стоимость самого дешевого + ребро до последователя меньше записанной стоимости последователя, то перезаписываем\n",
    "                    self.costs[node] = self.graph[lowest_cost_node][node] + self.costs[lowest_cost_node]\n",
    "                    self.parents[node] = lowest_cost_node\n",
    "                    \n",
    "            self.processed.append(lowest_cost_node) # добавляем самый дешевый узел в пройденные\n",
    "            lowest_cost_node = self._find_lowest_cost_node() #обновляем значение самого дешевого узла при шаге вперед из доступных непройденных\n",
    "        \n",
    "        for node in self.graph[lowest_cost_node]: #для каждого последователя самого дешевого узла\n",
    "                if self.costs[node] > self.graph[lowest_cost_node][node] + self.costs[lowest_cost_node]: #если стоимость самого дешевого + ребро до последователя меньше записанной стоимости последователя, то перезаписываем\n",
    "                    self.costs[node] = self.graph[lowest_cost_node][node] + self.costs[lowest_cost_node]\n",
    "        \n",
    "        self.shortest_path_cost = self.costs[self.end]\n",
    "        self.shortest_path = self.make_shortest_path_list()\n",
    "\n",
    "        print(f'Маршрут от \"{self.start}\" до \"{self.end}\" просчитан ({self.shortest_path_cost})')\n",
    "\n",
    "    def make_shortest_path_list(self):\n",
    "        cur_node = self.end\n",
    "        shortest_path = [cur_node]\n",
    "        while self.start != cur_node:\n",
    "            shortest_path.append(self.parents[cur_node])\n",
    "            cur_node=self.parents[cur_node]\n",
    "        shortest_path = shortest_path[::-1]\n",
    "        return shortest_path\n",
    "    \n",
    "    def display_shortest_path(self):\n",
    "        i=0\n",
    "        for each in self.shortest_path:\n",
    "            i+=1\n",
    "            if i%9 == 0:\n",
    "                print(f'|{each}|',end=' ->\\n')\n",
    "            elif self.end == each:\n",
    "                print(f'|{each}|')\n",
    "            else:\n",
    "                print(f'|{each}|',end=' -> ')\n",
    "\n",
    "        "
   ]
  },
  {
   "cell_type": "markdown",
   "id": "82a397a9",
   "metadata": {},
   "source": [
    "### Пример работы"
   ]
  },
  {
   "cell_type": "code",
   "execution_count": 65,
   "id": "d278391e",
   "metadata": {},
   "outputs": [
    {
     "name": "stdout",
     "output_type": "stream",
     "text": [
      "Маршрут от \"0,0\" до \"29,29\" просчитан (177)\n",
      "|0,0| -> |0,1| -> |1,1| -> |2,1| -> |3,1| -> |3,2| -> |4,2| -> |5,2| -> |6,2| ->\n",
      "|7,2| -> |8,2| -> |8,3| -> |8,4| -> |8,5| -> |7,5| -> |7,6| -> |7,7| -> |7,8| ->\n",
      "|7,9| -> |7,10| -> |8,10| -> |8,11| -> |9,11| -> |9,12| -> |9,13| -> |9,14| -> |9,15| ->\n",
      "|10,15| -> |10,16| -> |10,17| -> |10,18| -> |11,18| -> |12,18| -> |12,19| -> |12,20| -> |12,21| ->\n",
      "|13,21| -> |13,22| -> |13,23| -> |13,24| -> |14,24| -> |15,24| -> |16,24| -> |16,25| -> |17,25| ->\n",
      "|17,26| -> |18,26| -> |19,26| -> |20,26| -> |21,26| -> |22,26| -> |22,27| -> |23,27| -> |24,27| ->\n",
      "|25,27| -> |26,27| -> |27,27| -> |27,28| -> |28,28| -> |28,29| -> |29,29|\n"
     ]
    }
   ],
   "source": [
    "G = Graph(graph)\n",
    "G.dijkstra(\n",
    "    start='0,0', #левый верхний угол сгенерированного поля\n",
    "    end=f'{rows-1},{cols-1}', #нижний правый угол сгенерированного поля\n",
    "    start_val=field[0][0] #значение в левом верхнем углу\n",
    "    )\n",
    "G.display_shortest_path() # выводим кратчайший путь"
   ]
  },
  {
   "cell_type": "markdown",
   "id": "4585ceaa",
   "metadata": {},
   "source": [
    "### Код для визуалиации прохождения поля"
   ]
  },
  {
   "cell_type": "code",
   "execution_count": 66,
   "id": "06f45fa7",
   "metadata": {},
   "outputs": [
    {
     "name": "stdout",
     "output_type": "stream",
     "text": [
      "9   8   3   6   7   7   4   7   3   3   4   2   1   9   2   9   7   9   9   5   7   9   2   1   5   3   9   2   6   7   \n",
      "9   2   6   8   6   9   8   1   9   6   1   5   2   4   3   1   7   9   6   6   6   8   6   6   7   5   3   9   2   9   \n",
      "9   1   7   6   7   6   6   3   7   6   4   7   1   1   3   1   5   3   9   1   8   7   6   9   7   3   9   1   8   3   \n",
      "4   1   2   8   3   7   4   5   4   9   5   5   2   3   4   8   5   9   4   1   4   1   2   5   4   3   2   7   8   3   \n",
      "5   6   3   9   2   4   7   5   9   4   5   8   2   1   3   7   1   9   1   3   1   1   7   1   1   6   9   6   9   8   \n",
      "1   3   7   1   8   2   8   8   5   3   7   1   6   2   5   2   9   3   9   1   2   9   6   8   7   8   8   6   1   7   \n",
      "5   6   1   4   7   9   8   7   7   3   1   7   8   6   4   9   9   5   2   1   3   1   9   4   6   6   6   3   4   5   \n",
      "5   4   1   3   9   4   2   9   1   2   3   8   7   1   8   2   7   7   3   8   7   4   6   8   1   7   7   4   2   6   \n",
      "9   5   1   2   1   2   7   9   3   5   2   4   5   5   8   8   1   6   9   4   2   7   6   6   5   8   2   9   4   6   \n",
      "9   4   7   2   1   4   7   3   1   5   8   2   4   6   4   1   8   5   3   4   8   1   1   6   7   2   8   9   2   3   \n",
      "1   5   5   3   1   5   9   3   8   5   9   3   9   7   1   5   2   1   1   9   2   1   7   3   7   3   9   4   1   6   \n",
      "1   3   9   7   2   9   5   5   8   7   6   3   6   9   9   7   1   2   1   7   9   5   2   4   9   3   7   4   1   9   \n",
      "6   9   2   3   8   4   9   6   5   5   8   1   8   1   6   6   8   7   6   3   3   3   4   3   3   9   9   2   7   3   \n",
      "3   2   2   1   2   1   1   6   5   7   9   1   4   5   8   6   5   6   4   3   8   1   1   3   2   1   2   9   7   8   \n",
      "4   5   6   8   7   7   5   4   7   7   8   5   4   6   3   8   8   1   7   9   2   7   4   5   3   4   5   8   1   2   \n",
      "7   9   7   6   5   3   3   4   7   6   2   4   7   5   7   1   8   5   4   1   1   8   1   5   1   5   9   1   2   7   \n",
      "4   3   4   1   6   3   4   8   7   5   2   1   2   2   2   1   7   4   3   1   1   5   5   6   4   6   7   9   9   4   \n",
      "3   4   1   4   3   2   8   4   8   5   3   8   6   9   8   9   4   5   9   5   1   6   7   2   8   5   1   2   4   6   \n",
      "8   4   4   9   7   6   3   4   1   7   3   4   3   9   5   8   6   3   4   1   5   4   5   8   9   6   1   8   8   4   \n",
      "8   7   3   5   2   5   7   6   5   7   5   8   9   8   7   6   4   3   9   9   4   3   2   5   4   7   3   3   6   3   \n",
      "4   1   7   7   5   4   9   3   6   7   6   3   8   2   4   6   4   7   6   5   8   6   9   4   6   3   1   3   1   8   \n",
      "9   2   1   8   3   5   6   9   9   2   8   3   3   3   7   2   2   1   2   2   1   1   4   8   6   1   1   5   1   3   \n",
      "1   7   4   1   5   3   3   7   5   1   9   3   3   5   7   7   1   9   1   8   5   4   7   8   2   3   1   1   7   3   \n",
      "6   6   4   6   3   4   2   2   6   5   5   7   5   2   3   3   2   8   5   9   5   5   2   7   6   1   8   1   5   6   \n",
      "6   3   1   6   7   6   7   7   5   5   5   8   6   4   9   2   1   8   9   7   2   8   3   2   7   5   9   5   8   7   \n",
      "6   4   2   3   5   6   9   2   6   2   5   6   3   6   7   6   6   7   5   7   1   8   1   6   5   2   3   7   6   6   \n",
      "1   4   1   7   7   1   7   4   7   4   9   2   9   4   6   9   2   9   3   2   6   7   8   8   9   9   7   4   9   9   \n",
      "9   4   9   2   6   7   8   4   6   1   2   7   9   5   4   5   4   1   1   3   5   3   2   6   6   7   7   1   3   4   \n",
      "1   4   3   5   9   3   8   5   4   9   1   2   7   8   1   8   9   5   1   6   6   8   2   7   4   2   5   3   3   3   \n",
      "7   1   3   7   5   3   6   9   5   9   6   7   6   1   1   4   9   1   7   3   2   3   3   7   4   6   1   4   4   5   \n"
     ]
    }
   ],
   "source": [
    "# ОТОБРАЖЕНИЕ ПОЛЯ\n",
    "for each in field:\n",
    "    for every in each:\n",
    "        print(every,end=' '*(4 - len(str(every))))\n",
    "    print()"
   ]
  },
  {
   "cell_type": "code",
   "execution_count": 67,
   "id": "897d3a3e",
   "metadata": {},
   "outputs": [
    {
     "name": "stdout",
     "output_type": "stream",
     "text": [
      "9   8                                                                                                                   \n",
      "    2                                                                                                                   \n",
      "    1                                                                                                                   \n",
      "    1   2                                                                                                               \n",
      "        3                                                                                                               \n",
      "        7                                                                                                               \n",
      "        1                                                                                                               \n",
      "        1           4   2   9   1   2   3                                                                               \n",
      "        1   2   1   2                   2   4                                                                           \n",
      "                                            2   4   6   4   1                                                           \n",
      "                                                            5   2   1   1                                               \n",
      "                                                                        1                                               \n",
      "                                                                        6   3   3   3                                   \n",
      "                                                                                    1   1   3   2                       \n",
      "                                                                                                3                       \n",
      "                                                                                                1                       \n",
      "                                                                                                4   6                   \n",
      "                                                                                                    5   1               \n",
      "                                                                                                        1               \n",
      "                                                                                                        3               \n",
      "                                                                                                        1               \n",
      "                                                                                                        1               \n",
      "                                                                                                        1   1           \n",
      "                                                                                                            1           \n",
      "                                                                                                            5           \n",
      "                                                                                                            7           \n",
      "                                                                                                            4           \n",
      "                                                                                                            1   3       \n",
      "                                                                                                                3   3   \n",
      "                                                                                                                    5   \n"
     ]
    }
   ],
   "source": [
    "# ОТОБРАЖЕНИЕ ТОЛЬКО ПУТИ\n",
    "from copy import deepcopy\n",
    "field2 = deepcopy(field)\n",
    "for r_ind,r in enumerate(field2):\n",
    "    for c_ind,c in enumerate(r):\n",
    "        if f'{r_ind},{c_ind}' in G.shortest_path:\n",
    "            field2[r_ind][c_ind] = c\n",
    "        else:\n",
    "            field2[r_ind][c_ind] = ' '\n",
    "\n",
    "for each in field2:\n",
    "    for every in each:\n",
    "        print(every,end=' '*(4 - len(str(every))))\n",
    "    print()"
   ]
  },
  {
   "cell_type": "code",
   "execution_count": 68,
   "id": "71f77e51",
   "metadata": {},
   "outputs": [
    {
     "name": "stdout",
     "output_type": "stream",
     "text": [
      "9   17                                                                                                                  \n",
      "    19                                                                                                                  \n",
      "    20                                                                                                                  \n",
      "    21  23                                                                                                              \n",
      "        26                                                                                                              \n",
      "        33                                                                                                              \n",
      "        34                                                                                                              \n",
      "        35          39  41  50  51  53  56                                                                              \n",
      "        57  59  60  62                  64  68                                                                          \n",
      "                                            70  74  80  84  85                                                          \n",
      "                                                            90  92  93  94                                              \n",
      "                                                                        95                                              \n",
      "                                                                        101 104 107 110                                 \n",
      "                                                                                    111 112 115 117                     \n",
      "                                                                                                120                     \n",
      "                                                                                                121                     \n",
      "                                                                                                125 131                 \n",
      "                                                                                                    136 137             \n",
      "                                                                                                        138             \n",
      "                                                                                                        141             \n",
      "                                                                                                        142             \n",
      "                                                                                                        143             \n",
      "                                                                                                        144 145         \n",
      "                                                                                                            146         \n",
      "                                                                                                            151         \n",
      "                                                                                                            158         \n",
      "                                                                                                            162         \n",
      "                                                                                                            163 166     \n",
      "                                                                                                                169 172 \n",
      "                                                                                                                    177 \n"
     ]
    }
   ],
   "source": [
    "val = 0\n",
    "for r_ind,r in enumerate(field2):\n",
    "    for c_ind,c in enumerate(r):\n",
    "        if f'{r_ind},{c_ind}' in G.shortest_path:\n",
    "            field2[r_ind][c_ind] = c\n",
    "        else:\n",
    "            field2[r_ind][c_ind] = ' '\n",
    "\n",
    "for each in field2:\n",
    "    for every in each:\n",
    "        if isinstance(every,int):\n",
    "            val+=every\n",
    "            print(val,end=' '*(4 - len(str(val))))\n",
    "        else:\n",
    "            print(every,end=' '*3)\n",
    "    print()"
   ]
  },
  {
   "cell_type": "code",
   "execution_count": null,
   "id": "26aa0905",
   "metadata": {},
   "outputs": [],
   "source": []
  }
 ],
 "metadata": {
  "kernelspec": {
   "display_name": "Python 3 (ipykernel)",
   "language": "python",
   "name": "python3"
  },
  "language_info": {
   "codemirror_mode": {
    "name": "ipython",
    "version": 3
   },
   "file_extension": ".py",
   "mimetype": "text/x-python",
   "name": "python",
   "nbconvert_exporter": "python",
   "pygments_lexer": "ipython3",
   "version": "3.10.5"
  }
 },
 "nbformat": 4,
 "nbformat_minor": 5
}
