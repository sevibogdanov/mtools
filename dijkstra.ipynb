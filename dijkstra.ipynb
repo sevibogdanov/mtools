{
 "cells": [
  {
   "cell_type": "markdown",
   "id": "c0c73e8b",
   "metadata": {},
   "source": [
    "# Дейкстра"
   ]
  },
  {
   "cell_type": "markdown",
   "id": "2a9f1de5",
   "metadata": {},
   "source": [
    "### Формуирем поле (таблицу) со случайными значениями"
   ]
  },
  {
   "cell_type": "code",
   "execution_count": 7,
   "id": "fd273a33",
   "metadata": {},
   "outputs": [],
   "source": [
    "import random\n",
    "\n",
    "rows = 35 # кол-во строк поля\n",
    "cols = 35 # кол-во столбцов поля\n",
    "\n",
    "# создается поле размером rows X cols\n",
    "field = [[random.randint(1,9) for i in range(0,cols)] for x in range(0,rows)]\n"
   ]
  },
  {
   "cell_type": "markdown",
   "id": "141e3f63",
   "metadata": {},
   "source": [
    "### Преобразуем поле (таблицу в словарь)"
   ]
  },
  {
   "cell_type": "code",
   "execution_count": 8,
   "id": "27f2e18b",
   "metadata": {},
   "outputs": [],
   "source": [
    "def make_graph_dict(lst):\n",
    "    '''формируем граф из таблицы со связями в 4 направлениях\n",
    "    Граф - словарь, где ключами являются наименования узлов, \n",
    "    а значения - тоже словари из узлов-последователей и веса ребра до каждого из них\n",
    "    '''\n",
    "    graph = {}\n",
    "\n",
    "    for row in range(len(lst)): # формируем узлы\n",
    "        for col in range(len(lst[0])):\n",
    "            graph[f'{row},{col}'] = {}\n",
    "\n",
    "    for each in graph: \n",
    "        r,c = map(int,each.split(','))\n",
    "        if r+1 <= rows-1: #ячейка снизу\n",
    "            graph[each][f'{r+1},{c}']= lst[r+1][c]\n",
    "        if c+1 <= cols-1: #ячейка справа\n",
    "            graph[each][f'{r},{c+1}']= lst[r][c+1]\n",
    "        if r-1 >= 0:      #ячейка сверху\n",
    "            graph[each][f'{r-1},{c}']= lst[r-1][c]\n",
    "        if c-1 >= 0:      #ячейка слева\n",
    "            graph[each][f'{r},{c-1}']= lst[r][c-1]\n",
    "    return graph\n",
    "    \n",
    "graph = make_graph_dict(field) #получили граф из таблицы\n"
   ]
  },
  {
   "cell_type": "markdown",
   "id": "4694fdf0",
   "metadata": {},
   "source": [
    "### Определяем класс"
   ]
  },
  {
   "cell_type": "code",
   "execution_count": 9,
   "id": "a7aa75a9",
   "metadata": {},
   "outputs": [],
   "source": [
    "class Graph:\n",
    "    '''\n",
    "    costs - словарь стоимостей для каждого узла\n",
    "    end - наименование узла-цели\n",
    "    start - наименование узла-начала\n",
    "    parents - словарь родителей для узла (по нему восстанавливается путь)\n",
    "    node_amt - кол-во узлов графа\n",
    "\n",
    "    dijkstra - (self,start,end,start_val=0) определения кратчайего пути от start до end\n",
    "    '''\n",
    "\n",
    "    def __init__(self,graph):\n",
    "        self.graph = graph\n",
    "        self.node_amt = len(graph)\n",
    "        self.start = 'ND'\n",
    "        self.end = 'ND'\n",
    "        self.parents = 'ND'\n",
    "        self.costs = 'ND'\n",
    "        self.processed = 'ND'\n",
    "\n",
    "    def _find_lowest_cost_node(self):\n",
    "        '''выбираем непосещенный узел с минимальной стоимостью, от него будем пересчитывать стоимости последователей '''\n",
    "        lcn_val = float('inf')\n",
    "        lcn = None\n",
    "        for node in self.costs:\n",
    "            if self.costs[node] < lcn_val and node not in self.processed:\n",
    "                lcn_val = self.costs[node]\n",
    "                lcn = node\n",
    "        return lcn\n",
    "    \n",
    "    \n",
    "    def dijkstra(self,start,end,start_val=0):\n",
    "        '''Необходимо передать граф (в формате узел - его последователи с ребрами), стартовая стоимость, стартовый и конечные узлы\n",
    "        1 - costs создаем стоимости для всех узлов (равны бесконечности)\n",
    "        2 - создаем processed - обработанные узлы, чтобы они не попадались при выборе lowest_cost_node\n",
    "        3 - parents - словарь для записи пути'''\n",
    "        self.start = start\n",
    "        self.end = end\n",
    "\n",
    "        self.costs = {vertex: float('inf') for vertex in self.graph} # создаем словарь со стоимостями (бесконечность для всех)\n",
    "        self.costs[start] = start_val # для начальной точки стоимость\n",
    "        \n",
    "        self.processed = [] # список обработанных узлов (старт уже включен)\n",
    "        self.parents = dict()\n",
    "        \n",
    "        lowest_cost_node = self._find_lowest_cost_node() #определяем самый дешевый узел из доступных непосещенных\n",
    "        while lowest_cost_node != end: \n",
    "            for node in self.graph[lowest_cost_node]: #для каждого последователя самого дешевого узла\n",
    "                if self.costs[node] > self.graph[lowest_cost_node][node] + self.costs[lowest_cost_node]: #если стоимость самого дешевого + ребро до последователя меньше записанной стоимости последователя, то перезаписываем\n",
    "                    self.costs[node] = self.graph[lowest_cost_node][node] + self.costs[lowest_cost_node]\n",
    "                    self.parents[node] = lowest_cost_node\n",
    "                    \n",
    "            self.processed.append(lowest_cost_node) # добавляем самый дешевый узел в пройденные\n",
    "            lowest_cost_node = self._find_lowest_cost_node() #обновляем значение самого дешевого узла при шаге вперед из доступных непройденных\n",
    "        \n",
    "        for node in self.graph[lowest_cost_node]: #для каждого последователя самого дешевого узла\n",
    "                if self.costs[node] > self.graph[lowest_cost_node][node] + self.costs[lowest_cost_node]: #если стоимость самого дешевого + ребро до последователя меньше записанной стоимости последователя, то перезаписываем\n",
    "                    self.costs[node] = self.graph[lowest_cost_node][node] + self.costs[lowest_cost_node]\n",
    "        \n",
    "        self.shortest_path_cost = self.costs[self.end]\n",
    "        self.shortest_path = self.make_shortest_path_list()\n",
    "\n",
    "        print(f'Маршрут от \"{self.start}\" до \"{self.end}\" просчитан ({self.shortest_path_cost})')\n",
    "\n",
    "    def make_shortest_path_list(self):\n",
    "        cur_node = self.end\n",
    "        shortest_path = [cur_node]\n",
    "        while self.start != cur_node:\n",
    "            shortest_path.append(self.parents[cur_node])\n",
    "            cur_node=self.parents[cur_node]\n",
    "        shortest_path = shortest_path[::-1]\n",
    "        return shortest_path\n",
    "    \n",
    "    def display_shortest_path(self):\n",
    "        i=0\n",
    "        for each in self.shortest_path:\n",
    "            i+=1\n",
    "            if i%9 == 0:\n",
    "                print(f'|{each}|',end=' ->\\n')\n",
    "            elif self.end == each:\n",
    "                print(f'|{each}|')\n",
    "            else:\n",
    "                print(f'|{each}|',end=' -> ')\n",
    "\n",
    "        "
   ]
  },
  {
   "cell_type": "markdown",
   "id": "82a397a9",
   "metadata": {},
   "source": [
    "### Пример работы"
   ]
  },
  {
   "cell_type": "code",
   "execution_count": 10,
   "id": "d278391e",
   "metadata": {},
   "outputs": [
    {
     "name": "stdout",
     "output_type": "stream",
     "text": [
      "Маршрут от \"0,0\" до \"34,34\" просчитан (198)\n",
      "|0,0| -> |1,0| -> |2,0| -> |2,1| -> |2,2| -> |2,3| -> |3,3| -> |4,3| -> |5,3| ->\n",
      "|6,3| -> |7,3| -> |8,3| -> |9,3| -> |9,4| -> |9,5| -> |10,5| -> |11,5| -> |12,5| ->\n",
      "|12,6| -> |13,6| -> |14,6| -> |15,6| -> |16,6| -> |17,6| -> |18,6| -> |18,7| -> |19,7| ->\n",
      "|20,7| -> |20,8| -> |20,9| -> |21,9| -> |21,10| -> |21,11| -> |21,12| -> |21,13| -> |21,14| ->\n",
      "|21,15| -> |21,16| -> |22,16| -> |22,17| -> |22,18| -> |23,18| -> |24,18| -> |25,18| -> |26,18| ->\n",
      "|27,18| -> |28,18| -> |29,18| -> |29,19| -> |30,19| -> |30,20| -> |30,21| -> |31,21| -> |31,22| ->\n",
      "|31,23| -> |31,24| -> |31,25| -> |31,26| -> |31,27| -> |30,27| -> |30,28| -> |30,29| -> |30,30| ->\n",
      "|30,31| -> |31,31| -> |31,32| -> |32,32| -> |32,33| -> |33,33| -> |33,34| -> |34,34|\n"
     ]
    }
   ],
   "source": [
    "G = Graph(graph)\n",
    "G.dijkstra(\n",
    "    start='0,0', #левый верхний угол сгенерированного поля\n",
    "    end=f'{rows-1},{cols-1}', #нижний правый угол сгенерированного поля\n",
    "    start_val=field[0][0] #значение в левом верхнем углу\n",
    "    )\n",
    "G.display_shortest_path() # выводим кратчайший путь"
   ]
  },
  {
   "cell_type": "markdown",
   "id": "4585ceaa",
   "metadata": {},
   "source": [
    "### Код для визуалиации прохождения поля"
   ]
  },
  {
   "cell_type": "code",
   "execution_count": 11,
   "id": "06f45fa7",
   "metadata": {},
   "outputs": [
    {
     "name": "stdout",
     "output_type": "stream",
     "text": [
      "2  6  6  5  3  1  9  3  4  6  4  7  3  8  2  3  2  4  5  6  7  8  8  7  1  3  4  2  8  9  4  7  8  1  4  \n",
      "1  7  9  9  1  4  7  6  3  4  9  1  1  7  6  9  6  8  2  8  6  6  8  1  4  9  5  7  5  6  9  7  1  7  7  \n",
      "3  4  1  6  7  7  3  5  3  6  7  9  5  5  5  3  5  2  7  5  1  9  2  4  1  4  1  9  8  2  9  5  4  5  8  \n",
      "3  9  9  6  9  3  4  5  2  3  5  8  3  6  9  5  8  8  3  7  3  5  1  9  9  6  6  3  6  3  6  3  5  6  3  \n",
      "8  1  7  1  7  2  4  2  5  7  3  7  6  5  8  4  3  4  1  4  6  1  2  3  8  2  6  5  6  3  8  3  8  4  9  \n",
      "2  1  8  2  9  6  6  3  4  1  3  6  4  6  2  5  8  6  7  8  7  7  7  3  9  3  7  8  4  5  8  6  4  1  1  \n",
      "7  9  4  7  8  7  3  3  8  6  4  2  6  4  8  6  9  6  7  2  5  7  3  7  7  4  7  9  9  5  5  3  4  7  6  \n",
      "5  2  7  3  3  8  9  2  7  2  1  5  4  1  7  2  8  7  8  9  3  1  6  1  1  6  6  2  5  5  8  5  9  7  4  \n",
      "9  3  7  3  2  7  5  5  7  6  3  5  3  5  8  3  2  8  2  5  2  5  7  4  8  6  6  6  3  1  4  7  3  6  8  \n",
      "2  9  2  1  1  3  3  8  8  9  3  5  4  1  2  2  3  8  6  5  3  5  4  5  8  9  4  6  7  1  5  6  3  6  7  \n",
      "8  4  8  2  4  5  6  7  8  3  7  9  2  9  5  6  6  9  3  9  4  9  4  2  1  7  6  5  1  6  3  6  9  9  2  \n",
      "4  3  1  6  5  4  8  5  5  8  7  3  7  4  7  4  4  6  5  3  9  4  5  4  8  5  1  9  9  4  9  2  4  4  5  \n",
      "1  9  1  2  7  1  1  2  9  2  2  3  5  7  2  2  3  4  7  4  3  8  7  7  9  4  5  8  8  1  6  6  9  3  7  \n",
      "5  7  8  9  4  5  2  7  1  2  2  8  9  7  4  1  6  5  1  6  3  1  4  8  9  5  7  1  8  1  2  4  4  1  8  \n",
      "9  9  8  6  5  2  5  6  5  8  1  3  2  9  6  7  1  7  2  6  1  8  2  8  8  4  4  4  7  2  5  6  6  6  8  \n",
      "4  8  2  5  7  1  3  2  3  5  1  5  7  7  4  5  7  2  9  7  1  9  7  9  3  2  6  2  4  7  6  6  7  5  6  \n",
      "7  7  4  8  4  7  2  3  3  2  3  9  1  6  1  3  2  6  4  9  2  7  4  6  2  2  7  3  5  3  3  4  9  6  8  \n",
      "4  8  3  7  6  4  2  5  5  6  6  9  8  7  8  7  6  4  6  2  1  3  7  8  4  5  7  1  9  4  5  7  2  9  7  \n",
      "5  2  5  5  8  2  2  1  7  1  4  4  6  9  1  4  7  3  5  1  6  6  5  2  5  9  5  8  6  7  4  8  3  4  3  \n",
      "7  8  7  5  7  1  8  4  6  4  3  3  2  5  9  4  2  7  3  1  4  9  7  3  5  2  3  6  8  4  5  2  7  4  4  \n",
      "3  1  1  7  3  7  2  2  2  2  4  5  5  6  7  6  3  2  3  3  4  2  2  3  5  1  6  7  4  5  5  3  2  1  1  \n",
      "7  4  9  4  2  3  9  1  6  2  2  2  7  3  1  5  3  3  9  5  7  4  8  3  1  4  1  6  3  5  8  3  1  8  3  \n",
      "3  1  5  2  6  6  5  5  9  9  7  9  3  3  4  7  2  5  9  4  2  3  5  9  6  4  3  1  7  2  4  3  2  1  2  \n",
      "6  8  3  1  9  2  9  5  4  9  9  1  3  8  8  6  8  9  1  6  4  1  9  8  7  4  6  1  3  9  6  4  9  3  5  \n",
      "7  3  2  2  1  6  4  6  2  4  4  3  3  7  4  3  9  8  1  7  8  3  8  5  3  4  9  6  2  8  7  3  8  5  3  \n",
      "3  6  3  8  9  5  5  2  8  3  7  6  6  1  4  9  9  7  5  4  2  7  9  1  7  6  7  5  1  7  8  6  4  9  3  \n",
      "5  3  9  3  8  7  7  2  9  6  8  2  9  7  6  3  6  9  2  6  2  7  7  8  3  7  8  4  8  8  7  4  5  9  2  \n",
      "9  3  1  7  5  6  6  3  5  7  8  8  4  6  3  4  3  6  2  5  3  8  1  8  3  8  7  3  6  1  3  4  8  8  2  \n",
      "6  8  8  6  3  8  4  9  4  9  6  7  2  4  7  5  2  8  1  6  9  4  6  5  1  2  6  6  5  8  4  8  4  3  1  \n",
      "8  6  4  8  6  2  2  4  2  4  1  3  7  7  6  4  9  6  1  2  6  1  7  1  7  9  9  9  2  3  7  1  3  7  3  \n",
      "4  3  8  1  5  9  2  6  5  6  2  4  4  2  6  9  7  4  7  1  1  5  4  7  3  4  6  3  1  4  1  7  3  5  5  \n",
      "4  7  8  1  6  6  6  5  7  6  7  8  7  5  4  7  6  2  7  8  6  1  8  1  5  1  2  1  9  7  7  2  1  9  7  \n",
      "4  2  6  4  2  3  1  2  3  8  1  4  3  6  9  2  5  5  7  3  1  4  5  7  9  2  6  5  2  7  8  9  1  1  7  \n",
      "7  6  3  4  7  2  5  5  2  1  1  7  4  6  9  3  4  4  2  9  9  1  2  6  8  7  8  7  4  9  3  3  2  4  4  \n",
      "9  6  4  7  6  3  6  7  4  3  8  7  3  6  6  3  3  3  1  2  2  7  9  4  7  9  5  4  2  6  7  6  4  7  5  \n"
     ]
    }
   ],
   "source": [
    "# ОТОБРАЖЕНИЕ ПОЛЯ\n",
    "for each in field:\n",
    "    for every in each:\n",
    "        print(every,end=' '*(3 - len(str(every))))\n",
    "    print()"
   ]
  },
  {
   "cell_type": "code",
   "execution_count": 12,
   "id": "897d3a3e",
   "metadata": {},
   "outputs": [
    {
     "name": "stdout",
     "output_type": "stream",
     "text": [
      "2                                                                                                        \n",
      "1                                                                                                        \n",
      "3  4  1  6                                                                                               \n",
      "         6                                                                                               \n",
      "         1                                                                                               \n",
      "         2                                                                                               \n",
      "         7                                                                                               \n",
      "         3                                                                                               \n",
      "         3                                                                                               \n",
      "         1  1  3                                                                                         \n",
      "               5                                                                                         \n",
      "               4                                                                                         \n",
      "               1  1                                                                                      \n",
      "                  2                                                                                      \n",
      "                  5                                                                                      \n",
      "                  3                                                                                      \n",
      "                  2                                                                                      \n",
      "                  2                                                                                      \n",
      "                  2  1                                                                                   \n",
      "                     4                                                                                   \n",
      "                     2  2  2                                                                             \n",
      "                           2  2  2  7  3  1  5  3                                                        \n",
      "                                                2  5  9                                                  \n",
      "                                                      1                                                  \n",
      "                                                      1                                                  \n",
      "                                                      5                                                  \n",
      "                                                      2                                                  \n",
      "                                                      2                                                  \n",
      "                                                      1                                                  \n",
      "                                                      1  2                                               \n",
      "                                                         1  1  5                 3  1  4  1  7           \n",
      "                                                               1  8  1  5  1  2  1           2  1        \n",
      "                                                                                                1  1     \n",
      "                                                                                                   4  4  \n",
      "                                                                                                      5  \n"
     ]
    }
   ],
   "source": [
    "# ОТОБРАЖЕНИЕ ТОЛЬКО ПУТИ\n",
    "from copy import deepcopy\n",
    "field2 = deepcopy(field)\n",
    "for r_ind,r in enumerate(field2):\n",
    "    for c_ind,c in enumerate(r):\n",
    "        if f'{r_ind},{c_ind}' in G.shortest_path:\n",
    "            field2[r_ind][c_ind] = c\n",
    "        else:\n",
    "            field2[r_ind][c_ind] = ' '\n",
    "\n",
    "for each in field2:\n",
    "    for every in each:\n",
    "        print(every,end=' '*(3 - len(str(every))))\n",
    "    print()"
   ]
  },
  {
   "cell_type": "code",
   "execution_count": null,
   "id": "71f77e51",
   "metadata": {},
   "outputs": [],
   "source": []
  }
 ],
 "metadata": {
  "kernelspec": {
   "display_name": "Python 3 (ipykernel)",
   "language": "python",
   "name": "python3"
  },
  "language_info": {
   "codemirror_mode": {
    "name": "ipython",
    "version": 3
   },
   "file_extension": ".py",
   "mimetype": "text/x-python",
   "name": "python",
   "nbconvert_exporter": "python",
   "pygments_lexer": "ipython3",
   "version": "3.10.5"
  }
 },
 "nbformat": 4,
 "nbformat_minor": 5
}
